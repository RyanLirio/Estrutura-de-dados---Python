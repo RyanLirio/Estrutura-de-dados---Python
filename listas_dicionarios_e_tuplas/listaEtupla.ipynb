{
 "cells": [
  {
   "cell_type": "code",
   "execution_count": 1,
   "id": "38f959e1",
   "metadata": {},
   "outputs": [
    {
     "name": "stdout",
     "output_type": "stream",
     "text": [
      "[10, 'calabresa', 'pizza', 3.14]\n",
      "(1, 'pepperoni', 'pizza', 2.71)\n"
     ]
    }
   ],
   "source": [
    "lista = [0, 'calabresa', 'pizza', 3.14]\n",
    "tupla = (1, 'pepperoni', 'pizza', 2.71)\n",
    "\n",
    "lista[0] = 10\n",
    "print(lista)\n",
    "\n",
    "#tupla[0] = 20  # Não é possível modificar tuplas\n",
    "print(tupla)"
   ]
  },
  {
   "cell_type": "code",
   "execution_count": null,
   "id": "a50ffc81",
   "metadata": {},
   "outputs": [
    {
     "name": "stdout",
     "output_type": "stream",
     "text": [
      "10\n",
      "calabresa\n",
      "pizza\n",
      "3.14\n",
      "1\n",
      "pepperoni\n",
      "pizza\n",
      "2.71\n"
     ]
    }
   ],
   "source": [
    "#aqui vai ser exibido o conteúdo de cada estrutura\n",
    "for item in lista: \n",
    "    print(item)\n",
    "#a lista foi modificada, então o primeiro item é 10\n",
    "#ja a tupla não pode ser modificada, então o primeiro item continua 1\n",
    "for item in tupla:\n",
    "    print(item)"
   ]
  },
  {
   "cell_type": "code",
   "execution_count": 3,
   "id": "a596c217",
   "metadata": {},
   "outputs": [],
   "source": [
    "#lista de listas\n",
    "produtos = [\n",
    "    ['calabresa', 10.00, 20],\n",
    "    ['pepperoni', 12.00, 15],\n",
    "    ['mussarela', 8.00, 30],\n",
    "    ['frango', 11.00, 25],\n",
    "]"
   ]
  },
  {
   "cell_type": "code",
   "execution_count": 5,
   "id": "af7c69c5",
   "metadata": {},
   "outputs": [
    {
     "name": "stdout",
     "output_type": "stream",
     "text": [
      "[10.0, 12.0, 8.0, 11.0]\n"
     ]
    }
   ],
   "source": [
    "#Vamos extrair o preço de cada produto somente\n",
    "precos = []\n",
    "for produto in produtos:\n",
    "    precos.append(produto[1])\n",
    "\n",
    "print(precos)"
   ]
  },
  {
   "cell_type": "code",
   "execution_count": 6,
   "id": "9800b8f3",
   "metadata": {},
   "outputs": [
    {
     "name": "stdout",
     "output_type": "stream",
     "text": [
      "Soma dos preços: 41.0\n"
     ]
    }
   ],
   "source": [
    "soma_precos = sum(precos)\n",
    "print(f'Soma dos preços: {soma_precos}')"
   ]
  },
  {
   "cell_type": "code",
   "execution_count": null,
   "id": "c107a680",
   "metadata": {},
   "outputs": [
    {
     "name": "stdout",
     "output_type": "stream",
     "text": [
      "[10.0, 12.0, 8.0, 11.0]\n"
     ]
    }
   ],
   "source": [
    "precos = []\n",
    "\n",
    "# Agora vamos usar o  list comprehension para fazer a mesma coisa que o for fez acima\n",
    "precos = [produto[1] for produto in produtos]\n",
    "print(precos)"
   ]
  },
  {
   "cell_type": "code",
   "execution_count": 11,
   "id": "ef8a069b",
   "metadata": {},
   "outputs": [
    {
     "name": "stdout",
     "output_type": "stream",
     "text": [
      "Soma dos preços: 41.0\n"
     ]
    }
   ],
   "source": [
    "#Agora o sum vai envolver o list comprehension\n",
    "soma_precos = sum([produto[1] for produto in produtos])\n",
    "print(f'Soma dos preços: {soma_precos}')"
   ]
  },
  {
   "cell_type": "code",
   "execution_count": 18,
   "id": "f92b8ee3",
   "metadata": {},
   "outputs": [
    {
     "name": "stdout",
     "output_type": "stream",
     "text": [
      "[['calabresa', 'Estoque Suficiente'], ['pepperoni', 'Estoque baixo'], ['mussarela', 'Estoque Suficiente'], ['frango', 'Estoque Suficiente']]\n"
     ]
    }
   ],
   "source": [
    "#Controle de estoque com list comprehension\n",
    "# Vamos verificar se o estoque de cada produto está baixo ou suficiente\n",
    "controle_estoque = [\n",
    "    [produto[0], 'Estoque baixo' if produto[2] < 20 else 'Estoque Suficiente']                     \n",
    "    for produto in produtos\n",
    "]\n",
    "print(controle_estoque)\n"
   ]
  },
  {
   "cell_type": "code",
   "execution_count": 24,
   "id": "b8df58a1",
   "metadata": {},
   "outputs": [
    {
     "name": "stdout",
     "output_type": "stream",
     "text": [
      "{'calabresa': {'preco': 10.0, 'quantidade': 20}, 'pepperoni': {'preco': 12.0, 'quantidade': 15}, 'mussarela': {'preco': 8.0, 'quantidade': 30}, 'frango': {'preco': 11.0, 'quantidade': 25}}\n"
     ]
    }
   ],
   "source": [
    "#Dicionario\n",
    "estoque = {\n",
    "    'calabresa' : {'preco': 10.00, 'quantidade': 20},\n",
    "    'pepperoni': {'preco': 12.00, 'quantidade': 15},\n",
    "    'mussarela': {'preco': 8.00, 'quantidade': 30},\n",
    "    'frango': {'preco': 11.00, 'quantidade': 25},\n",
    "}\n",
    "print(estoque)"
   ]
  },
  {
   "cell_type": "code",
   "execution_count": 25,
   "id": "ee7026d2",
   "metadata": {},
   "outputs": [
    {
     "name": "stdout",
     "output_type": "stream",
     "text": [
      "{'calabresa': {'quantidade': 20, 'preco': 10.0}, 'pepperoni': {'quantidade': 15, 'preco': 6.0}, 'mussarela': {'quantidade': 30, 'preco': 8.0}, 'frango': {'quantidade': 25, 'preco': 5.5}}\n"
     ]
    }
   ],
   "source": [
    "\n",
    "estoque_com_desconto = {\n",
    "    nome: {\n",
    "        'quantidade': dados['quantidade'],\n",
    "        'preco': dados['preco'] * 0.5 if dados['preco'] > 10 else dados['preco']\n",
    "    } \n",
    "    for nome, dados in estoque.items()\n",
    "}\n",
    "\n",
    "print(estoque_com_desconto)"
   ]
  }
 ],
 "metadata": {
  "kernelspec": {
   "display_name": "Python 3",
   "language": "python",
   "name": "python3"
  },
  "language_info": {
   "codemirror_mode": {
    "name": "ipython",
    "version": 3
   },
   "file_extension": ".py",
   "mimetype": "text/x-python",
   "name": "python",
   "nbconvert_exporter": "python",
   "pygments_lexer": "ipython3",
   "version": "3.11.9"
  }
 },
 "nbformat": 4,
 "nbformat_minor": 5
}
